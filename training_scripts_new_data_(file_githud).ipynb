{
 "cells": [
  {
   "cell_type": "code",
   "execution_count": 1,
   "metadata": {},
   "outputs": [],
   "source": [
    "import os\n",
    "from tensorflow import keras\n",
    "import losses, train, GhostFaceNets\n",
    "import tensorflow as tf\n",
    "import keras_cv_attention_models"
   ]
  },
  {
   "cell_type": "code",
   "execution_count": 2,
   "metadata": {},
   "outputs": [
    {
     "name": "stdout",
     "output_type": "stream",
     "text": [
      "[PhysicalDevice(name='/physical_device:GPU:0', device_type='GPU')]\n"
     ]
    }
   ],
   "source": [
    "gpus = tf.config.experimental.list_physical_devices(\"GPU\")\n",
    "for gpu in gpus:\n",
    "    tf.config.experimental.set_memory_growth(gpu, True)\n",
    "print(tf.config.list_physical_devices('GPU'))"
   ]
  },
  {
   "cell_type": "code",
   "execution_count": 3,
   "metadata": {},
   "outputs": [
    {
     "name": "stdout",
     "output_type": "stream",
     "text": [
      "INFO:tensorflow:Mixed precision compatibility check (mixed_float16): OK\n",
      "Your GPU will likely run quickly with dtype policy mixed_float16 as it has compute capability of at least 7.0. Your GPU: NVIDIA GeForce RTX 4060 Ti, compute capability 8.9\n"
     ]
    }
   ],
   "source": [
    "# Remove the below for better accuracies and keep it for faster training\n",
    "keras.mixed_precision.set_global_policy(\"mixed_float16\")"
   ]
  },
  {
   "attachments": {},
   "cell_type": "markdown",
   "metadata": {},
   "source": [
    "GhostFaceNetV1"
   ]
  },
  {
   "cell_type": "code",
   "execution_count": 4,
   "metadata": {},
   "outputs": [],
   "source": [
    "# (MS1MV2) dataset\n",
    "data_path = 'datasets/all_data_112x112_folders'\n",
    "eval_paths = ['datasets/all_data/lfw.bin', 'datasets/all_data/cfp_fp.bin', 'datasets/all_data/agedb_30.bin']"
   ]
  },
  {
   "cell_type": "code",
   "execution_count": 5,
   "metadata": {},
   "outputs": [
    {
     "name": "stdout",
     "output_type": "stream",
     "text": [
      ">>>> Change BatchNormalization momentum and epsilon default value.\n",
      ">>>> Convert ReLU: activation --> activation\n",
      ">>>> Convert ReLU: activation_1 --> activation_1\n",
      ">>>> Convert ReLU: activation_2 --> activation_2\n",
      ">>>> Convert ReLU: activation_3 --> activation_3\n",
      ">>>> Convert ReLU: activation_4 --> activation_4\n",
      ">>>> Convert ReLU: activation_5 --> activation_5\n",
      ">>>> Convert ReLU: activation_6 --> activation_6\n",
      ">>>> Convert ReLU: activation_7 --> activation_7\n",
      ">>>> Convert ReLU: activation_8 --> activation_8\n",
      ">>>> Convert ReLU: activation_9 --> activation_9\n",
      ">>>> Convert ReLU: activation_11 --> activation_11\n",
      ">>>> Convert ReLU: activation_12 --> activation_12\n",
      ">>>> Convert ReLU: activation_13 --> activation_13\n",
      ">>>> Convert ReLU: activation_15 --> activation_15\n",
      ">>>> Convert ReLU: activation_16 --> activation_16\n",
      ">>>> Convert ReLU: activation_17 --> activation_17\n",
      ">>>> Convert ReLU: activation_18 --> activation_18\n",
      ">>>> Convert ReLU: activation_19 --> activation_19\n",
      ">>>> Convert ReLU: activation_20 --> activation_20\n",
      ">>>> Convert ReLU: activation_21 --> activation_21\n",
      ">>>> Convert ReLU: activation_22 --> activation_22\n",
      ">>>> Convert ReLU: activation_23 --> activation_23\n",
      ">>>> Convert ReLU: activation_24 --> activation_24\n",
      ">>>> Convert ReLU: activation_25 --> activation_25\n",
      ">>>> Convert ReLU: activation_27 --> activation_27\n",
      ">>>> Convert ReLU: activation_28 --> activation_28\n",
      ">>>> Convert ReLU: activation_29 --> activation_29\n",
      ">>>> Convert ReLU: activation_31 --> activation_31\n",
      ">>>> Convert ReLU: activation_32 --> activation_32\n",
      ">>>> Convert ReLU: activation_33 --> activation_33\n",
      ">>>> Convert ReLU: activation_35 --> activation_35\n",
      ">>>> Convert ReLU: activation_36 --> activation_36\n",
      ">>>> Convert ReLU: activation_37 --> activation_37\n",
      ">>>> Convert ReLU: activation_38 --> activation_38\n",
      ">>>> Convert ReLU: activation_39 --> activation_39\n",
      ">>>> Convert ReLU: activation_41 --> activation_41\n",
      ">>>> Convert ReLU: activation_42 --> activation_42\n",
      ">>>> Convert ReLU: activation_43 --> activation_43\n",
      ">>>> Convert ReLU: activation_44 --> activation_44\n",
      ">>>> Convert ReLU: activation_45 --> activation_45\n",
      ">>>> Convert ReLU: activation_47 --> activation_47\n"
     ]
    }
   ],
   "source": [
    "# Strides of 1\n",
    "basic_model = GhostFaceNets.buildin_models(\"ghostnetv1\", dropout=0, emb_shape=512, output_layer='GDC', bn_momentum=0.9, bn_epsilon=1e-5, scale=True, use_bias=True, strides=1)\n",
    "basic_model = GhostFaceNets.add_l2_regularizer_2_model(basic_model, weight_decay=5e-4, apply_to_batch_normal=False)\n",
    "basic_model = GhostFaceNets.replace_ReLU_with_PReLU(basic_model)"
   ]
  },
  {
   "cell_type": "code",
   "execution_count": 6,
   "metadata": {},
   "outputs": [
    {
     "name": "stdout",
     "output_type": "stream",
     "text": [
      ">>>> L2 regularizer value from basic_model: 0.00025\n"
     ]
    }
   ],
   "source": [
    "# # Strides of 2\n",
    "tt = train.Train(data_path, eval_paths=eval_paths,\n",
    "    save_path='ghostnetv1_w1.3_s2_new_data_(8file_githud).h5',\n",
    "    basic_model=basic_model, model=None, lr_base=0.1, lr_decay=0.5, lr_decay_steps=45, lr_min=1e-5,\n",
    "    batch_size=128, random_status=0, eval_freq=1, output_weight_decay=1)\n"
   ]
  },
  {
   "cell_type": "code",
   "execution_count": 7,
   "metadata": {},
   "outputs": [
    {
     "name": "stdout",
     "output_type": "stream",
     "text": [
      "['__add_emb_output_to_model__', '__basic_train__', '__class__', '__delattr__', '__dict__', '__dir__', '__doc__', '__eq__', '__format__', '__ge__', '__getattribute__', '__gt__', '__hash__', '__init__', '__init_dataset__', '__init_emb_losses__', '__init_model__', '__init_optimizer__', '__init_subclass__', '__init_type_by_loss__', '__le__', '__lt__', '__module__', '__ne__', '__new__', '__reduce__', '__reduce_ex__', '__repr__', '__search_embedding_layer__', '__setattr__', '__sizeof__', '__str__', '__subclasshook__', '__weakref__', 'arcface', 'arcface_partial', 'basic_model', 'batch_size', 'batch_size_per_replica', 'center', 'classes', 'custom_callbacks', 'data_path', 'default_optimizer', 'distill', 'distill_emb_map_layer', 'gently_stop', 'image_per_class', 'inited_from_model', 'is_distill_ds', 'is_triplet_dataset', 'lr_scheduler', 'metrics', 'mixup_alpha', 'model', 'model_checkpoint', 'my_evals', 'my_history', 'output_weight_decay', 'partial_fc_split', 'pretrained', 'random_cutout_mask_area', 'random_status', 'reset_dataset', 'sam_rho', 'samples_per_mining', 'save_path', 'softmax', 'steps_per_epoch', 'teacher_model_interf', 'train', 'train_ds', 'train_single_scheduler', 'triplet', 'vpl_allowed_delta', 'vpl_start_iters']\n"
     ]
    }
   ],
   "source": [
    "print(dir(tt))  # Kiểm tra xem 'train' có nằm trong danh sách không\n"
   ]
  },
  {
   "cell_type": "code",
   "execution_count": 8,
   "metadata": {},
   "outputs": [
    {
     "name": "stdout",
     "output_type": "stream",
     "text": [
      ">>>> Init type by loss function name...\n",
      ">>>> Train arcface...\n",
      ">>>> Init softmax dataset...\n",
      ">>>> reloaded from dataset backup: all_data_112x112_folders_shuffle.npz\n",
      ">>>> Image length: 1219995, Image class length: 1219995, classes: 109999\n",
      ">>>> Use specified optimizer: <keras.optimizer_v2.gradient_descent.SGD object at 0x00000199931207F0>\n",
      ">>>> Add L2 regularizer to model output layer, output_weight_decay = 0.000500\n",
      ">>>> Add arcface layer, arc_kwargs={'loss_top_k': 1, 'append_norm': False, 'partial_fc_split': 0, 'name': 'arcface'}, vpl_kwargs={'vpl_lambda': 0.15, 'start_iters': -9531, 'allowed_delta': 200}...\n",
      ">>>> loss_weights: {'arcface': 1}\n",
      "\n",
      "Learning rate for iter 1 is 0.10000000149011612, global_iterNum is 0\n",
      "9531/9531 [==============================] - ETA: 0s - loss: 179.7921 - accuracy: 0.2717\n"
     ]
    },
    {
     "name": "stderr",
     "output_type": "stream",
     "text": [
      "Evaluating lfw: 100%|██████████| 94/94 [00:34<00:00,  2.74it/s]"
     ]
    },
    {
     "name": "stdout",
     "output_type": "stream",
     "text": [
      "\n",
      ">>>> lfw evaluation max accuracy: 0.824167, thresh: 0.564626, previous max accuracy: 0.000000\n",
      ">>>> Improved = 0.824167\n",
      "\n"
     ]
    },
    {
     "name": "stderr",
     "output_type": "stream",
     "text": [
      "\n",
      "Evaluating cfp_fp: 100%|██████████| 110/110 [00:39<00:00,  2.77it/s]"
     ]
    },
    {
     "name": "stdout",
     "output_type": "stream",
     "text": [
      "\n",
      ">>>> cfp_fp evaluation max accuracy: 0.624714, thresh: 0.478383, previous max accuracy: 0.000000\n",
      ">>>> Improved = 0.624714\n",
      "\n"
     ]
    },
    {
     "name": "stderr",
     "output_type": "stream",
     "text": [
      "\n",
      "Evaluating agedb_30: 100%|██████████| 94/94 [00:34<00:00,  2.75it/s]"
     ]
    },
    {
     "name": "stdout",
     "output_type": "stream",
     "text": [
      "\n",
      ">>>> agedb_30 evaluation max accuracy: 0.560333, thresh: 0.576731, previous max accuracy: 0.000000\n",
      ">>>> Improved = 0.560333\n",
      "Saving model to: checkpoints\\ghostnetv1_w1.3_s2_new_data_(8file_githud)_basic_agedb_30_epoch_1_0.560333.h5\n",
      "WARNING:tensorflow:Compiled the loaded model, but the compiled metrics have yet to be built. `model.compile_metrics` will be empty until you train or evaluate the model.\n"
     ]
    },
    {
     "name": "stderr",
     "output_type": "stream",
     "text": [
      "\n",
      "c:\\Users\\ADMIN\\anaconda3\\envs\\tf\\lib\\site-packages\\keras\\engine\\functional.py:1410: CustomMaskWarning: Custom mask layers require a config and must override get_config. When loading, the custom mask layer must be passed to the custom_objects argument.\n",
      "  layer_config = serialize_layer_fn(layer)\n"
     ]
    },
    {
     "name": "stdout",
     "output_type": "stream",
     "text": [
      "\n",
      "Epoch 00001: saving model to checkpoints\\ghostnetv1_w1.3_s2_new_data_(8file_githud)_epoch01.h5\n",
      "9531/9531 [==============================] - 5329s 558ms/step - loss: 179.7921 - accuracy: 0.2717\n",
      ">>>> Train arcface DONE!!! epochs = [0], model.stop_training = False\n",
      ">>>> My history:\n",
      "{\n",
      "  'lr': [0.09987824410200119],\n",
      "  'loss': [116.6863899230957],\n",
      "  'accuracy': [0.2717415392398834],\n",
      "  'lfw': [0.8241666666666667],\n",
      "  'lfw_thresh': [0.5646264553070068],\n",
      "  'cfp_fp': [0.6247142857142857],\n",
      "  'cfp_fp_thresh': [0.47838252782821655],\n",
      "  'agedb_30': [0.5603333333333333],\n",
      "  'agedb_30_thresh': [0.5767306685447693],\n",
      "  'regular_loss': [63.10569381713867],\n",
      "}\n",
      ">>>> Saving latest basic model to: checkpoints\\ghostnetv1_w1.3_s2_new_data_(8file_githud)_basic_model_latest.h5\n",
      "WARNING:tensorflow:Compiled the loaded model, but the compiled metrics have yet to be built. `model.compile_metrics` will be empty until you train or evaluate the model.\n",
      ">>>> Init type by loss function name...\n",
      ">>>> Train arcface...\n",
      ">>>> Reuse optimizer from previoue model: SGD\n",
      ">>>> Add L2 regularizer to model output layer, output_weight_decay = 0.000500\n",
      ">>>> Will NOT change model output layer.\n",
      ">>>> loss_weights: {'arcface': 1}\n",
      "Epoch 2/9\n",
      "\n",
      "Learning rate for iter 2 is 0.0998782142996788, global_iterNum is 9531\n",
      "9531/9531 [==============================] - ETA: 0s - loss: 298.8838 - accuracy: 0.6903\n"
     ]
    },
    {
     "name": "stderr",
     "output_type": "stream",
     "text": [
      "Evaluating lfw: 100%|██████████| 94/94 [00:37<00:00,  2.52it/s]"
     ]
    },
    {
     "name": "stdout",
     "output_type": "stream",
     "text": [
      "\n",
      ">>>> lfw evaluation max accuracy: 0.801333, thresh: 0.601191, previous max accuracy: 0.824167\n",
      "\n"
     ]
    },
    {
     "name": "stderr",
     "output_type": "stream",
     "text": [
      "\n",
      "Evaluating cfp_fp: 100%|██████████| 110/110 [00:43<00:00,  2.52it/s]"
     ]
    },
    {
     "name": "stdout",
     "output_type": "stream",
     "text": [
      "\n",
      ">>>> cfp_fp evaluation max accuracy: 0.614429, thresh: 0.497452, previous max accuracy: 0.624714\n",
      "\n"
     ]
    },
    {
     "name": "stderr",
     "output_type": "stream",
     "text": [
      "\n",
      "Evaluating agedb_30: 100%|██████████| 94/94 [00:36<00:00,  2.54it/s]"
     ]
    },
    {
     "name": "stdout",
     "output_type": "stream",
     "text": [
      "\n",
      ">>>> agedb_30 evaluation max accuracy: 0.501500, thresh: 0.884385, previous max accuracy: 0.560333\n"
     ]
    },
    {
     "name": "stderr",
     "output_type": "stream",
     "text": [
      "\n",
      "c:\\Users\\ADMIN\\anaconda3\\envs\\tf\\lib\\site-packages\\keras\\engine\\functional.py:1410: CustomMaskWarning: Custom mask layers require a config and must override get_config. When loading, the custom mask layer must be passed to the custom_objects argument.\n",
      "  layer_config = serialize_layer_fn(layer)\n"
     ]
    },
    {
     "name": "stdout",
     "output_type": "stream",
     "text": [
      "\n",
      "Epoch 00002: saving model to checkpoints\\ghostnetv1_w1.3_s2_new_data_(8file_githud)_epoch02.h5\n",
      "9531/9531 [==============================] - 5369s 563ms/step - loss: 298.8838 - accuracy: 0.6903\n",
      "Epoch 3/9\n",
      "\n",
      "Learning rate for iter 3 is 0.0995134487748146, global_iterNum is 19062\n",
      "9531/9531 [==============================] - ETA: 0s - loss: 120.3032 - accuracy: 0.7570\n"
     ]
    },
    {
     "name": "stderr",
     "output_type": "stream",
     "text": [
      "Evaluating lfw: 100%|██████████| 94/94 [00:35<00:00,  2.66it/s]"
     ]
    },
    {
     "name": "stdout",
     "output_type": "stream",
     "text": [
      "\n",
      ">>>> lfw evaluation max accuracy: 0.820000, thresh: 0.600538, previous max accuracy: 0.824167\n",
      "\n"
     ]
    },
    {
     "name": "stderr",
     "output_type": "stream",
     "text": [
      "\n",
      "Evaluating cfp_fp: 100%|██████████| 110/110 [00:41<00:00,  2.67it/s]"
     ]
    },
    {
     "name": "stdout",
     "output_type": "stream",
     "text": [
      "\n",
      ">>>> cfp_fp evaluation max accuracy: 0.639429, thresh: 0.501756, previous max accuracy: 0.624714\n",
      ">>>> Improved = 0.014714\n",
      "\n"
     ]
    },
    {
     "name": "stderr",
     "output_type": "stream",
     "text": [
      "\n",
      "Evaluating agedb_30: 100%|██████████| 94/94 [00:35<00:00,  2.66it/s]"
     ]
    },
    {
     "name": "stdout",
     "output_type": "stream",
     "text": [
      "\n",
      ">>>> agedb_30 evaluation max accuracy: 0.532667, thresh: 0.661283, previous max accuracy: 0.560333\n"
     ]
    },
    {
     "name": "stderr",
     "output_type": "stream",
     "text": [
      "\n",
      "c:\\Users\\ADMIN\\anaconda3\\envs\\tf\\lib\\site-packages\\keras\\engine\\functional.py:1410: CustomMaskWarning: Custom mask layers require a config and must override get_config. When loading, the custom mask layer must be passed to the custom_objects argument.\n",
      "  layer_config = serialize_layer_fn(layer)\n"
     ]
    },
    {
     "name": "stdout",
     "output_type": "stream",
     "text": [
      "\n",
      "Epoch 00003: saving model to checkpoints\\ghostnetv1_w1.3_s2_new_data_(8file_githud)_epoch03.h5\n",
      "9531/9531 [==============================] - 5467s 573ms/step - loss: 120.3032 - accuracy: 0.7570\n",
      "Epoch 4/9\n",
      "\n",
      "Learning rate for iter 4 is 0.09890749305486679, global_iterNum is 28593\n",
      "9531/9531 [==============================] - ETA: 0s - loss: 103.4242 - accuracy: 0.7775\n"
     ]
    },
    {
     "name": "stderr",
     "output_type": "stream",
     "text": [
      "Evaluating lfw: 100%|██████████| 94/94 [00:34<00:00,  2.71it/s]"
     ]
    },
    {
     "name": "stdout",
     "output_type": "stream",
     "text": [
      "\n",
      ">>>> lfw evaluation max accuracy: 0.808833, thresh: 0.581358, previous max accuracy: 0.824167\n",
      "\n"
     ]
    },
    {
     "name": "stderr",
     "output_type": "stream",
     "text": [
      "\n",
      "Evaluating cfp_fp: 100%|██████████| 110/110 [00:40<00:00,  2.71it/s]"
     ]
    },
    {
     "name": "stdout",
     "output_type": "stream",
     "text": [
      "\n",
      ">>>> cfp_fp evaluation max accuracy: 0.622286, thresh: 0.500454, previous max accuracy: 0.639429\n",
      "\n"
     ]
    },
    {
     "name": "stderr",
     "output_type": "stream",
     "text": [
      "\n",
      "Evaluating agedb_30: 100%|██████████| 94/94 [00:34<00:00,  2.71it/s]"
     ]
    },
    {
     "name": "stdout",
     "output_type": "stream",
     "text": [
      "\n",
      ">>>> agedb_30 evaluation max accuracy: 0.520667, thresh: 0.656947, previous max accuracy: 0.560333\n"
     ]
    },
    {
     "name": "stderr",
     "output_type": "stream",
     "text": [
      "\n",
      "c:\\Users\\ADMIN\\anaconda3\\envs\\tf\\lib\\site-packages\\keras\\engine\\functional.py:1410: CustomMaskWarning: Custom mask layers require a config and must override get_config. When loading, the custom mask layer must be passed to the custom_objects argument.\n",
      "  layer_config = serialize_layer_fn(layer)\n"
     ]
    },
    {
     "name": "stdout",
     "output_type": "stream",
     "text": [
      "\n",
      "Epoch 00004: saving model to checkpoints\\ghostnetv1_w1.3_s2_new_data_(8file_githud)_epoch04.h5\n",
      "9531/9531 [==============================] - 5361s 562ms/step - loss: 103.4242 - accuracy: 0.7775\n",
      "Epoch 5/9\n",
      "\n",
      "Learning rate for iter 5 is 0.09806328266859055, global_iterNum is 38124\n",
      "9531/9531 [==============================] - ETA: 0s - loss: 100.9940 - accuracy: 0.7917\n"
     ]
    },
    {
     "name": "stderr",
     "output_type": "stream",
     "text": [
      "Evaluating lfw: 100%|██████████| 94/94 [00:34<00:00,  2.73it/s]"
     ]
    },
    {
     "name": "stdout",
     "output_type": "stream",
     "text": [
      "\n",
      ">>>> lfw evaluation max accuracy: 0.807667, thresh: 0.553265, previous max accuracy: 0.824167\n",
      "\n"
     ]
    },
    {
     "name": "stderr",
     "output_type": "stream",
     "text": [
      "\n",
      "Evaluating cfp_fp: 100%|██████████| 110/110 [00:40<00:00,  2.74it/s]"
     ]
    },
    {
     "name": "stdout",
     "output_type": "stream",
     "text": [
      "\n",
      ">>>> cfp_fp evaluation max accuracy: 0.611143, thresh: 0.504037, previous max accuracy: 0.639429\n",
      "\n"
     ]
    },
    {
     "name": "stderr",
     "output_type": "stream",
     "text": [
      "\n",
      "Evaluating agedb_30: 100%|██████████| 94/94 [00:34<00:00,  2.73it/s]"
     ]
    },
    {
     "name": "stdout",
     "output_type": "stream",
     "text": [
      "\n",
      ">>>> agedb_30 evaluation max accuracy: 0.513167, thresh: 0.674807, previous max accuracy: 0.560333\n"
     ]
    },
    {
     "name": "stderr",
     "output_type": "stream",
     "text": [
      "\n",
      "c:\\Users\\ADMIN\\anaconda3\\envs\\tf\\lib\\site-packages\\keras\\engine\\functional.py:1410: CustomMaskWarning: Custom mask layers require a config and must override get_config. When loading, the custom mask layer must be passed to the custom_objects argument.\n",
      "  layer_config = serialize_layer_fn(layer)\n"
     ]
    },
    {
     "name": "stdout",
     "output_type": "stream",
     "text": [
      "\n",
      "Epoch 00005: saving model to checkpoints\\ghostnetv1_w1.3_s2_new_data_(8file_githud)_epoch05.h5\n",
      "9531/9531 [==============================] - 5334s 560ms/step - loss: 100.9940 - accuracy: 0.7917\n",
      "Epoch 6/9\n",
      "\n",
      "Learning rate for iter 6 is 0.09698493778705597, global_iterNum is 47655\n",
      "9531/9531 [==============================] - ETA: 0s - loss: 94.3430 - accuracy: 0.8010\n"
     ]
    },
    {
     "name": "stderr",
     "output_type": "stream",
     "text": [
      "Evaluating lfw: 100%|██████████| 94/94 [00:34<00:00,  2.71it/s]"
     ]
    },
    {
     "name": "stdout",
     "output_type": "stream",
     "text": [
      "\n",
      ">>>> lfw evaluation max accuracy: 0.786167, thresh: 0.606609, previous max accuracy: 0.824167\n",
      "\n"
     ]
    },
    {
     "name": "stderr",
     "output_type": "stream",
     "text": [
      "\n",
      "Evaluating cfp_fp: 100%|██████████| 110/110 [00:40<00:00,  2.72it/s]"
     ]
    },
    {
     "name": "stdout",
     "output_type": "stream",
     "text": [
      "\n",
      ">>>> cfp_fp evaluation max accuracy: 0.604143, thresh: 0.519031, previous max accuracy: 0.639429\n",
      "\n"
     ]
    },
    {
     "name": "stderr",
     "output_type": "stream",
     "text": [
      "\n",
      "Evaluating agedb_30: 100%|██████████| 94/94 [00:34<00:00,  2.72it/s]"
     ]
    },
    {
     "name": "stdout",
     "output_type": "stream",
     "text": [
      "\n",
      ">>>> agedb_30 evaluation max accuracy: 0.501500, thresh: 0.856264, previous max accuracy: 0.560333\n"
     ]
    },
    {
     "name": "stderr",
     "output_type": "stream",
     "text": [
      "\n",
      "c:\\Users\\ADMIN\\anaconda3\\envs\\tf\\lib\\site-packages\\keras\\engine\\functional.py:1410: CustomMaskWarning: Custom mask layers require a config and must override get_config. When loading, the custom mask layer must be passed to the custom_objects argument.\n",
      "  layer_config = serialize_layer_fn(layer)\n"
     ]
    },
    {
     "name": "stdout",
     "output_type": "stream",
     "text": [
      "\n",
      "Epoch 00006: saving model to checkpoints\\ghostnetv1_w1.3_s2_new_data_(8file_githud)_epoch06.h5\n",
      "9531/9531 [==============================] - 5336s 560ms/step - loss: 94.3430 - accuracy: 0.8010\n",
      "Epoch 7/9\n",
      "\n",
      "Learning rate for iter 7 is 0.0956777036190033, global_iterNum is 57186\n",
      "9531/9531 [==============================] - ETA: 0s - loss: 89.4357 - accuracy: 0.8086\n"
     ]
    },
    {
     "name": "stderr",
     "output_type": "stream",
     "text": [
      "Evaluating lfw: 100%|██████████| 94/94 [00:34<00:00,  2.72it/s]"
     ]
    },
    {
     "name": "stdout",
     "output_type": "stream",
     "text": [
      "\n",
      ">>>> lfw evaluation max accuracy: 0.811333, thresh: 0.565717, previous max accuracy: 0.824167\n",
      "\n"
     ]
    },
    {
     "name": "stderr",
     "output_type": "stream",
     "text": [
      "\n",
      "Evaluating cfp_fp: 100%|██████████| 110/110 [00:40<00:00,  2.73it/s]"
     ]
    },
    {
     "name": "stdout",
     "output_type": "stream",
     "text": [
      "\n",
      ">>>> cfp_fp evaluation max accuracy: 0.628000, thresh: 0.473642, previous max accuracy: 0.639429\n",
      "\n"
     ]
    },
    {
     "name": "stderr",
     "output_type": "stream",
     "text": [
      "\n",
      "Evaluating agedb_30: 100%|██████████| 94/94 [00:34<00:00,  2.72it/s]"
     ]
    },
    {
     "name": "stdout",
     "output_type": "stream",
     "text": [
      "\n",
      ">>>> agedb_30 evaluation max accuracy: 0.515333, thresh: 0.645696, previous max accuracy: 0.560333\n"
     ]
    },
    {
     "name": "stderr",
     "output_type": "stream",
     "text": [
      "\n",
      "c:\\Users\\ADMIN\\anaconda3\\envs\\tf\\lib\\site-packages\\keras\\engine\\functional.py:1410: CustomMaskWarning: Custom mask layers require a config and must override get_config. When loading, the custom mask layer must be passed to the custom_objects argument.\n",
      "  layer_config = serialize_layer_fn(layer)\n"
     ]
    },
    {
     "name": "stdout",
     "output_type": "stream",
     "text": [
      "\n",
      "Epoch 00007: saving model to checkpoints\\ghostnetv1_w1.3_s2_new_data_(8file_githud)_epoch07.h5\n",
      "9531/9531 [==============================] - 5335s 560ms/step - loss: 89.4357 - accuracy: 0.8086\n",
      "Epoch 8/9\n",
      "\n",
      "Learning rate for iter 8 is 0.09414796531200409, global_iterNum is 66717\n",
      "9531/9531 [==============================] - ETA: 0s - loss: 86.3654 - accuracy: 0.8150\n"
     ]
    },
    {
     "name": "stderr",
     "output_type": "stream",
     "text": [
      "Evaluating lfw: 100%|██████████| 94/94 [00:34<00:00,  2.71it/s]"
     ]
    },
    {
     "name": "stdout",
     "output_type": "stream",
     "text": [
      "\n",
      ">>>> lfw evaluation max accuracy: 0.807500, thresh: 0.549852, previous max accuracy: 0.824167\n",
      "\n"
     ]
    },
    {
     "name": "stderr",
     "output_type": "stream",
     "text": [
      "\n",
      "Evaluating cfp_fp: 100%|██████████| 110/110 [00:40<00:00,  2.71it/s]"
     ]
    },
    {
     "name": "stdout",
     "output_type": "stream",
     "text": [
      "\n",
      ">>>> cfp_fp evaluation max accuracy: 0.611714, thresh: 0.463092, previous max accuracy: 0.639429\n",
      "\n"
     ]
    },
    {
     "name": "stderr",
     "output_type": "stream",
     "text": [
      "\n",
      "Evaluating agedb_30: 100%|██████████| 94/94 [00:34<00:00,  2.71it/s]"
     ]
    },
    {
     "name": "stdout",
     "output_type": "stream",
     "text": [
      "\n",
      ">>>> agedb_30 evaluation max accuracy: 0.501000, thresh: 0.887507, previous max accuracy: 0.560333\n"
     ]
    },
    {
     "name": "stderr",
     "output_type": "stream",
     "text": [
      "\n",
      "c:\\Users\\ADMIN\\anaconda3\\envs\\tf\\lib\\site-packages\\keras\\engine\\functional.py:1410: CustomMaskWarning: Custom mask layers require a config and must override get_config. When loading, the custom mask layer must be passed to the custom_objects argument.\n",
      "  layer_config = serialize_layer_fn(layer)\n"
     ]
    },
    {
     "name": "stdout",
     "output_type": "stream",
     "text": [
      "\n",
      "Epoch 00008: saving model to checkpoints\\ghostnetv1_w1.3_s2_new_data_(8file_githud)_epoch08.h5\n",
      "9531/9531 [==============================] - 5332s 559ms/step - loss: 86.3654 - accuracy: 0.8150\n",
      "Epoch 9/9\n",
      "\n",
      "Learning rate for iter 9 is 0.09240316599607468, global_iterNum is 76248\n",
      "9531/9531 [==============================] - ETA: 0s - loss: 78.7983 - accuracy: 0.8212\n"
     ]
    },
    {
     "name": "stderr",
     "output_type": "stream",
     "text": [
      "Evaluating lfw: 100%|██████████| 94/94 [00:34<00:00,  2.73it/s]"
     ]
    },
    {
     "name": "stdout",
     "output_type": "stream",
     "text": [
      "\n",
      ">>>> lfw evaluation max accuracy: 0.833333, thresh: 0.546206, previous max accuracy: 0.824167\n",
      ">>>> Improved = 0.009167\n",
      "\n"
     ]
    },
    {
     "name": "stderr",
     "output_type": "stream",
     "text": [
      "\n",
      "Evaluating cfp_fp: 100%|██████████| 110/110 [00:40<00:00,  2.73it/s]"
     ]
    },
    {
     "name": "stdout",
     "output_type": "stream",
     "text": [
      "\n",
      ">>>> cfp_fp evaluation max accuracy: 0.618429, thresh: 0.434769, previous max accuracy: 0.639429\n",
      "\n"
     ]
    },
    {
     "name": "stderr",
     "output_type": "stream",
     "text": [
      "\n",
      "Evaluating agedb_30: 100%|██████████| 94/94 [00:34<00:00,  2.73it/s]"
     ]
    },
    {
     "name": "stdout",
     "output_type": "stream",
     "text": [
      "\n",
      ">>>> agedb_30 evaluation max accuracy: 0.500500, thresh: 0.909635, previous max accuracy: 0.560333\n"
     ]
    },
    {
     "name": "stderr",
     "output_type": "stream",
     "text": [
      "\n",
      "c:\\Users\\ADMIN\\anaconda3\\envs\\tf\\lib\\site-packages\\keras\\engine\\functional.py:1410: CustomMaskWarning: Custom mask layers require a config and must override get_config. When loading, the custom mask layer must be passed to the custom_objects argument.\n",
      "  layer_config = serialize_layer_fn(layer)\n"
     ]
    },
    {
     "name": "stdout",
     "output_type": "stream",
     "text": [
      "\n",
      "Epoch 00009: saving model to checkpoints\\ghostnetv1_w1.3_s2_new_data_(8file_githud)_epoch09.h5\n",
      "9531/9531 [==============================] - 5327s 559ms/step - loss: 78.7983 - accuracy: 0.8212\n",
      ">>>> Train arcface DONE!!! epochs = [1, 2, 3, 4, 5, 6, 7, 8], model.stop_training = False\n",
      ">>>> My history:\n",
      "{\n",
      "  'lr': [0.09987824410200119, 0.09951350092887878, 0.09890756756067276, 0.09806337207555771, 0.09698506444692612, 0.09567786008119583, 0.09414813667535782, 0.0924033597111702, 0.09045201539993286],\n",
      "  'loss': [116.6863899230957, 192.51508331298828, 55.7662353515625, 42.73808288574219, 43.11186981201172, 39.31891632080078, 36.74291229248047, 35.22093200683594, 33.14404296875],\n",
      "  'accuracy': [0.2717415392398834, 0.690266489982605, 0.7569797039031982, 0.7775375843048096, 0.7917215824127197, 0.8009636402130127, 0.8085744976997375, 0.814972996711731, 0.8212363123893738],\n",
      "  'lfw': [0.8241666666666667, 0.8013333333333333, 0.82, 0.8088333333333333, 0.8076666666666666, 0.7861666666666667, 0.8113333333333334, 0.8075, 0.8333333333333334],\n",
      "  'lfw_thresh': [0.5646264553070068, 0.6011912822723389, 0.6005381345748901, 0.5813584923744202, 0.553264856338501, 0.6066093444824219, 0.5657174587249756, 0.5498522520065308, 0.5462058782577515],\n",
      "  'cfp_fp': [0.6247142857142857, 0.6144285714285714, 0.6394285714285715, 0.6222857142857143, 0.6111428571428571, 0.6041428571428571, 0.628, 0.6117142857142858, 0.6184285714285714],\n",
      "  'cfp_fp_thresh': [0.47838252782821655, 0.4974519610404968, 0.5017563104629517, 0.5004544258117676, 0.5040366649627686, 0.5190312266349792, 0.4736420512199402, 0.4630918502807617, 0.43476858735084534],\n",
      "  'agedb_30': [0.5603333333333333, 0.5015, 0.5326666666666666, 0.5206666666666667, 0.5131666666666667, 0.5015, 0.5153333333333333, 0.501, 0.5005],\n",
      "  'agedb_30_thresh': [0.5767306685447693, 0.8843849897384644, 0.6612828969955444, 0.6569465398788452, 0.6748074293136597, 0.8562635183334351, 0.6456956267356873, 0.8875073790550232, 0.9096354246139526],\n",
      "  'regular_loss': [63.10569381713867, 106.36870574951172, 64.53700256347656, 60.686073303222656, 57.88212585449219, 55.02404022216797, 52.692787170410156, 51.14442443847656, 45.654258728027344],\n",
      "}\n",
      ">>>> Saving latest basic model to: checkpoints\\ghostnetv1_w1.3_s2_new_data_(8file_githud)_basic_model_latest.h5\n",
      "WARNING:tensorflow:Compiled the loaded model, but the compiled metrics have yet to be built. `model.compile_metrics` will be empty until you train or evaluate the model.\n"
     ]
    },
    {
     "data": {
      "text/plain": [
       "9"
      ]
     },
     "execution_count": 8,
     "metadata": {},
     "output_type": "execute_result"
    }
   ],
   "source": [
    "\n",
    "optimizer = keras.optimizers.SGD(learning_rate=0.1, momentum=0.9)\n",
    "sch = [\n",
    "    {\"loss\": losses.ArcfaceLoss(scale=32), \"epoch\": 1, \"optimizer\": optimizer},\n",
    "    {\"loss\": losses.ArcfaceLoss(scale=64), \"epoch\": 8},\n",
    "]\n",
    "# tt.steps_per_epoch = 10\n",
    "tt.train(sch, 0)"
   ]
  },
  {
   "cell_type": "code",
   "execution_count": 9,
   "metadata": {},
   "outputs": [
    {
     "name": "stdout",
     "output_type": "stream",
     "text": [
      "done train\n"
     ]
    }
   ],
   "source": [
    "print(\"done train\")"
   ]
  },
  {
   "cell_type": "code",
   "execution_count": null,
   "metadata": {},
   "outputs": [],
   "source": []
  }
 ],
 "metadata": {
  "kernelspec": {
   "display_name": "tf",
   "language": "python",
   "name": "python3"
  },
  "language_info": {
   "codemirror_mode": {
    "name": "ipython",
    "version": 3
   },
   "file_extension": ".py",
   "mimetype": "text/x-python",
   "name": "python",
   "nbconvert_exporter": "python",
   "pygments_lexer": "ipython3",
   "version": "3.9.18"
  },
  "orig_nbformat": 4
 },
 "nbformat": 4,
 "nbformat_minor": 2
}
